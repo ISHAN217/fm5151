{
  "nbformat": 4,
  "nbformat_minor": 0,
  "metadata": {
    "colab": {
      "provenance": []
    },
    "kernelspec": {
      "name": "python3",
      "display_name": "Python 3"
    },
    "language_info": {
      "name": "python"
    }
  },
  "cells": [
    {
      "cell_type": "code",
      "source": [
        "def amortize(apr, years, balance, monthly_pmt=None):\n",
        "    n = years * 12  # Total number of payments (in months)\n",
        "    i = apr / 12  # Monthly interest rate\n",
        "\n",
        "\n",
        "    if monthly_pmt is None:\n",
        "        v = 1 / (1 + i)\n",
        "        annuity_factor = (1 - v ** n) / i\n",
        "        monthly_pmt = balance / annuity_factor\n",
        "\n",
        "\n",
        "    schedule = {\n",
        "        \"period\": [],\n",
        "        \"start_bal\": [],\n",
        "        \"interest\": [],\n",
        "        \"bal_after_int\": [],\n",
        "        \"pmt\": [],\n",
        "        \"bal_after_pmt\": [],\n",
        "        \"principal_repaid\": []\n",
        "    }\n",
        "\n",
        "\n",
        "    for j in range(n):\n",
        "        period = j + 1\n",
        "        start_bal = balance if j == 0 else schedule[\"bal_after_pmt\"][-1]\n",
        "        interest = start_bal * i\n",
        "        bal_after_int = start_bal + interest\n",
        "\n",
        "\n",
        "        if bal_after_int < monthly_pmt:\n",
        "            pmt = bal_after_int\n",
        "        else:\n",
        "            pmt = monthly_pmt\n",
        "\n",
        "        bal_after_pmt = bal_after_int - pmt\n",
        "        principal_repaid = start_bal - bal_after_pmt\n",
        "\n",
        "\n",
        "        schedule[\"period\"].append(period)\n",
        "        schedule[\"start_bal\"].append(start_bal)\n",
        "        schedule[\"interest\"].append(interest)\n",
        "        schedule[\"bal_after_int\"].append(bal_after_int)\n",
        "        schedule[\"pmt\"].append(pmt)\n",
        "        schedule[\"bal_after_pmt\"].append(bal_after_pmt)\n",
        "        schedule[\"principal_repaid\"].append(principal_repaid)\n",
        "\n",
        "        # Stop projecting if the loan is paid off\n",
        "        if bal_after_pmt <= 1e-10:\n",
        "            break\n",
        "\n",
        "    return schedule\n",
        "\n",
        "def to_csv(schedule, filename,precision=2):\n",
        "\n",
        "    with open(filename, mode='w', newline='') as file:\n",
        "        writer = csv.writer(file)\n",
        "\n",
        "\n",
        "        writer.writerow(schedule.keys())\n",
        "\n",
        "\n",
        "        for row in zip(*schedule.values()):\n",
        "            writer.writerow(row)\n",
        "\n",
        "# Define the loan parameters\n",
        "apr = 0.05  # 5% annual percentage rate\n",
        "years = 5  # 5 years\n",
        "balance = 100000  # Initial loan amount\n",
        "\n",
        "\n",
        "exact_schedule = amortize(apr, years, balance)\n",
        "exact_payment = exact_schedule[\"pmt\"][0]  # Get the exact monthly payment\n",
        "\n",
        "\n",
        "high_payment = exact_payment + 200\n",
        "low_payment = exact_payment - 200\n",
        "\n",
        "high_schedule = amortize(apr, years, balance, monthly_pmt=high_payment)\n",
        "low_schedule = amortize(apr, years, balance, monthly_pmt=low_payment)\n",
        "\n",
        "\n",
        "to_csv(exact_schedule, \"exact_payment_schedule.csv\")\n",
        "to_csv(high_schedule, \"high_payment_schedule.csv\")\n",
        "to_csv(low_schedule, \"low_payment_schedule.csv\")\n",
        "\n",
        "print(f\"Exact Payment: {exact_payment:.2f}\")\n",
        "print(f\"High Payment: {high_payment:.2f}\")\n",
        "print(f\"Low Payment: {low_payment:.2f}\")\n"
      ],
      "metadata": {
        "colab": {
          "base_uri": "https://localhost:8080/"
        },
        "id": "1Mvj6ZJey-xw",
        "outputId": "5673480c-d3ca-4162-805d-75805575486d"
      },
      "execution_count": 11,
      "outputs": [
        {
          "output_type": "stream",
          "name": "stdout",
          "text": [
            "Exact Payment: 1887.12\n",
            "High Payment: 2087.12\n",
            "Low Payment: 1687.12\n"
          ]
        }
      ]
    },
    {
      "cell_type": "markdown",
      "source": [
        "## Q1: ##\n",
        "\n",
        "- **What is the solved for monthly payment amount to pay off the loan at the end\n",
        "of the term?**"
      ],
      "metadata": {
        "id": "SlIA8Vet6UZL"
      }
    },
    {
      "cell_type": "code",
      "source": [
        "def calculate_monthly_payment(apr, years, balance):\n",
        "    i = apr / 12\n",
        "    n = years * 12\n",
        "    monthly_payment = balance * i / (1 - (1 + i) ** -n)\n",
        "    return monthly_payment\n",
        "\n",
        "# Loan parameters\n",
        "apr = 0.07\n",
        "years = 30\n",
        "balance = 500000\n",
        "\n",
        "# monthly payment\n",
        "monthly_payment = calculate_monthly_payment(apr, years, balance)\n",
        "print(f\"Monthly Payment: ${monthly_payment:.2f}\")\n"
      ],
      "metadata": {
        "colab": {
          "base_uri": "https://localhost:8080/"
        },
        "id": "Mz5jTHiH6X_u",
        "outputId": "990b106c-41ea-49f0-8a59-36890ec8cea0"
      },
      "execution_count": 5,
      "outputs": [
        {
          "output_type": "stream",
          "name": "stdout",
          "text": [
            "Monthly Payment: $3326.51\n"
          ]
        }
      ]
    },
    {
      "cell_type": "markdown",
      "source": [
        "## Q2: ##\n",
        "\n",
        "- **How much total principal is repaid over the duration of the loan?**\n"
      ],
      "metadata": {
        "id": "5zQyP-LF7flN"
      }
    },
    {
      "cell_type": "markdown",
      "source": [
        "Answer: Total interest repaid is simply the amount of original loan which in this case is 500,000"
      ],
      "metadata": {
        "id": "1_Gg-jAD9G7W"
      }
    },
    {
      "cell_type": "markdown",
      "source": [
        "## Q3: ##\n",
        "\n",
        "- **How much total interest is paid over the duration of the loan?**"
      ],
      "metadata": {
        "id": "16ttWOJj9XBJ"
      }
    },
    {
      "cell_type": "code",
      "source": [
        "# total interest paid over the duration of the loan\n",
        "n_payments = years * 12\n",
        "total_interest = (monthly_payment * n_payments) - balance\n",
        "total_interest\n"
      ],
      "metadata": {
        "colab": {
          "base_uri": "https://localhost:8080/"
        },
        "id": "QFeB7HGz7kRQ",
        "outputId": "97c003e8-de8f-4458-c34b-891bc8e4e510"
      },
      "execution_count": 6,
      "outputs": [
        {
          "output_type": "execute_result",
          "data": {
            "text/plain": [
              "697544.4913225283"
            ]
          },
          "metadata": {},
          "execution_count": 6
        }
      ]
    },
    {
      "cell_type": "markdown",
      "source": [
        "## Q4 ##\n",
        "\n",
        "- **Does more of the payment go to interest or principal at the beginning of the loan?**\n",
        "- **Does this ratio change throughout the life of the loan?**"
      ],
      "metadata": {
        "id": "mjzALgoc9-NX"
      }
    },
    {
      "cell_type": "markdown",
      "source": [
        "Answer 1: Initially more of the payment go to intrest at the begining of the loan\n",
        "\n",
        "Answer 2: Yes the ratio changes as the loan amount decreases payment goes from intrest to principal amount\n"
      ],
      "metadata": {
        "id": "uQ4Jjj5J9_kJ"
      }
    },
    {
      "cell_type": "markdown",
      "source": [
        "## Q5: ##\n",
        "\n",
        "- **What is the final payment amount if you pay an additional $50 per month?**\n",
        "- **In what month is the loan paid off?**"
      ],
      "metadata": {
        "id": "VZ1b7FP_-m6Z"
      }
    },
    {
      "cell_type": "code",
      "source": [
        "\n",
        "\n",
        "import csv\n",
        "\n",
        "def amortize(apr, years, balance, monthly_pmt=None):\n",
        "    n = years * 12  # Total number of payments (in months)\n",
        "    i = apr / 12  # Monthly interest rate\n",
        "\n",
        "\n",
        "    if monthly_pmt is None:\n",
        "        v = 1 / (1 + i)\n",
        "        annuity_factor = (1 - v ** n) / i\n",
        "        monthly_pmt = balance / annuity_factor\n",
        "\n",
        "\n",
        "    schedule = {\n",
        "        \"period\": [],\n",
        "        \"start_bal\": [],\n",
        "        \"interest\": [],\n",
        "        \"bal_after_int\": [],\n",
        "        \"pmt\": [],\n",
        "        \"bal_after_pmt\": [],\n",
        "        \"principal_repaid\": []\n",
        "    }\n",
        "\n",
        "\n",
        "    for j in range(n):\n",
        "        period = j + 1\n",
        "        start_bal = balance if j == 0 else schedule[\"bal_after_pmt\"][-1]\n",
        "\n",
        "        interest = start_bal * i\n",
        "        bal_after_int = start_bal + interest\n",
        "\n",
        "\n",
        "        if bal_after_int < monthly_pmt:\n",
        "            pmt = bal_after_int\n",
        "        else:\n",
        "            pmt = monthly_pmt\n",
        "\n",
        "        bal_after_pmt = bal_after_int - pmt\n",
        "        principal_repaid = start_bal - bal_after_pmt\n",
        "\n",
        "        schedule[\"period\"].append(period)\n",
        "        schedule[\"start_bal\"].append(start_bal)\n",
        "        schedule[\"interest\"].append(interest)\n",
        "        schedule[\"bal_after_int\"].append(bal_after_int)\n",
        "        schedule[\"pmt\"].append(pmt)\n",
        "        schedule[\"bal_after_pmt\"].append(bal_after_pmt)\n",
        "        schedule[\"principal_repaid\"].append(principal_repaid)\n",
        "\n",
        "\n",
        "        if bal_after_pmt <= 1e-10:\n",
        "            break\n",
        "\n",
        "    return schedule\n",
        "\n",
        "\n",
        "exact_schedule = amortize(apr, years, balance)\n",
        "exact_payment = exact_schedule[\"pmt\"][0]  # Get the exact monthly payment\n",
        "\n",
        "# Step 2: Add the extra payment to the regular monthly payment\n",
        "adjusted_payment = exact_payment + 50\n",
        "\n",
        "# Step 3: Generate an amortization schedule with the extra monthly payment\n",
        "adjusted_schedule = amortize(apr, years, balance, monthly_pmt=adjusted_payment)\n",
        "\n",
        "# Step 4: Find the final payment amount and the month when the loan is paid off\n",
        "final_payment = adjusted_schedule[\"pmt\"][-1]  # The last payment amount\n",
        "payoff_month_1 = adjusted_schedule[\"period\"][-1]  # The month when the loan is fully paid off\n",
        "payoff_month_Initial= exact_schedule[\"period\"][-1]\n",
        "final_payment, payoff_month_1,payoff_month_Initial\n"
      ],
      "metadata": {
        "colab": {
          "base_uri": "https://localhost:8080/"
        },
        "id": "ySUUobCf-yz9",
        "outputId": "8acdef86-cf6c-4799-9e47-a1c048d2de04"
      },
      "execution_count": 12,
      "outputs": [
        {
          "output_type": "execute_result",
          "data": {
            "text/plain": [
              "(480.0138762935803, 59, 60)"
            ]
          },
          "metadata": {},
          "execution_count": 12
        }
      ]
    }
  ]
}